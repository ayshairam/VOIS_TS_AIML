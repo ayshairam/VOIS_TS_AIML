{
 "cells": [
  {
   "cell_type": "code",
   "execution_count": 2,
   "id": "76e486c0-2dc5-4cb9-a7a3-8e23abf5d391",
   "metadata": {},
   "outputs": [
    {
     "name": "stdout",
     "output_type": "stream",
     "text": [
      "Hello Aysha\n"
     ]
    }
   ],
   "source": [
    "print(\"Hello Aysha\")"
   ]
  },
  {
   "cell_type": "code",
   "execution_count": 8,
   "id": "6bbd9ede-374a-4f21-80f6-0492366fc2a8",
   "metadata": {},
   "outputs": [
    {
     "data": {
      "text/plain": [
       "'/Users/ayshairam'"
      ]
     },
     "execution_count": 8,
     "metadata": {},
     "output_type": "execute_result"
    }
   ],
   "source": [
    "import os\n",
    "os.getcwd() #current working dir"
   ]
  },
  {
   "cell_type": "code",
   "execution_count": 10,
   "id": "c3fbde0a-d2f8-4a43-9581-ddc7cca37263",
   "metadata": {},
   "outputs": [
    {
     "name": "stdout",
     "output_type": "stream",
     "text": [
      "YESSSSS\n"
     ]
    }
   ],
   "source": [
    "if True:\n",
    "    print(\"YESSSSS\")\n",
    "else:\n",
    "    print(\"Nooooo\")\n",
    "    "
   ]
  },
  {
   "cell_type": "code",
   "execution_count": 16,
   "id": "6203707a-534f-42ae-a505-baf7c4ab1527",
   "metadata": {},
   "outputs": [
    {
     "name": "stdin",
     "output_type": "stream",
     "text": [
      "Enter your name: Aysha\n"
     ]
    },
    {
     "data": {
      "text/plain": [
       "'Aysha'"
      ]
     },
     "execution_count": 16,
     "metadata": {},
     "output_type": "execute_result"
    }
   ],
   "source": [
    "input('Enter your name:')\n"
   ]
  },
  {
   "cell_type": "code",
   "execution_count": 28,
   "id": "0cd24c97-1832-4ec5-8f12-53da0ab4d4b7",
   "metadata": {},
   "outputs": [
    {
     "name": "stdout",
     "output_type": "stream",
     "text": [
      "Aysha\n",
      "20\n",
      "1.5\n"
     ]
    }
   ],
   "source": [
    "name='Aysha'\n",
    "age=20\n",
    "miles=1.5\n",
    "print(name)\n",
    "print(age)\n",
    "print(miles)"
   ]
  },
  {
   "cell_type": "code",
   "execution_count": 26,
   "id": "9d4adfd4-aab2-4559-8aee-cd21b7facecc",
   "metadata": {},
   "outputs": [
    {
     "name": "stdout",
     "output_type": "stream",
     "text": [
      "Aysha\n",
      "20\n",
      "1.5\n"
     ]
    }
   ],
   "source": [
    "name,age,miles='Aysha',20,1.5\n",
    "print(name)\n",
    "print(age)\n",
    "print(miles)"
   ]
  },
  {
   "cell_type": "code",
   "execution_count": 32,
   "id": "5861d386-6b31-4015-b665-8517219959f2",
   "metadata": {},
   "outputs": [
    {
     "name": "stdout",
     "output_type": "stream",
     "text": [
      "4373358472\n",
      "42\n"
     ]
    }
   ],
   "source": [
    "x=42\n",
    "print(id(x))\n",
    "print(x)\n"
   ]
  },
  {
   "cell_type": "code",
   "execution_count": 34,
   "id": "fb277c0e-6a17-49af-8d62-899e525da374",
   "metadata": {},
   "outputs": [
    {
     "name": "stdout",
     "output_type": "stream",
     "text": [
      "<class 'int'>\n"
     ]
    }
   ],
   "source": [
    "print(type(x))"
   ]
  },
  {
   "cell_type": "code",
   "execution_count": 36,
   "id": "78bae70f-a5a0-4d1a-a71d-7f268b9355af",
   "metadata": {},
   "outputs": [
    {
     "name": "stdout",
     "output_type": "stream",
     "text": [
      "<class 'str'>\n"
     ]
    }
   ],
   "source": [
    "print(type(name))"
   ]
  },
  {
   "cell_type": "code",
   "execution_count": 42,
   "id": "413bb69a-01ab-434c-840f-10de420d6926",
   "metadata": {},
   "outputs": [
    {
     "name": "stdout",
     "output_type": "stream",
     "text": [
      "23 35.5\n"
     ]
    }
   ],
   "source": [
    "a=23\n",
    "b=35.5\n",
    "print(a,b)"
   ]
  },
  {
   "cell_type": "code",
   "execution_count": 44,
   "id": "5f59558d-82d3-443a-9f9d-7477522a65ad",
   "metadata": {},
   "outputs": [
    {
     "name": "stdout",
     "output_type": "stream",
     "text": [
      "<class 'float'>\n"
     ]
    }
   ],
   "source": [
    "print(type(b))"
   ]
  },
  {
   "cell_type": "code",
   "execution_count": 52,
   "id": "fe1733db-c4ec-4836-b330-22ea994d9bc6",
   "metadata": {},
   "outputs": [
    {
     "data": {
      "text/plain": [
       "36"
      ]
     },
     "execution_count": 52,
     "metadata": {},
     "output_type": "execute_result"
    }
   ],
   "source": [
    "import math\n",
    "math.ceil(b) #ceil-> upper bound"
   ]
  },
  {
   "cell_type": "code",
   "execution_count": 54,
   "id": "34c2c298-0f6b-4011-b836-889ea446eca6",
   "metadata": {},
   "outputs": [
    {
     "data": {
      "text/plain": [
       "'Aysha Iram'"
      ]
     },
     "execution_count": 54,
     "metadata": {},
     "output_type": "execute_result"
    }
   ],
   "source": [
    "a=\"Aysha \"\n",
    "b=\"Iram\"\n",
    "a+b"
   ]
  },
  {
   "cell_type": "code",
   "execution_count": 56,
   "id": "0d34ffda-4965-4a1f-86ec-13d2437099a9",
   "metadata": {},
   "outputs": [
    {
     "data": {
      "text/plain": [
       "'Aysha Aysha Aysha '"
      ]
     },
     "execution_count": 56,
     "metadata": {},
     "output_type": "execute_result"
    }
   ],
   "source": [
    "a*3"
   ]
  },
  {
   "cell_type": "code",
   "execution_count": 58,
   "id": "9a3bb5dc-ba25-44b8-ad48-8691e25d2c90",
   "metadata": {},
   "outputs": [
    {
     "data": {
      "text/plain": [
       "'Ays'"
      ]
     },
     "execution_count": 58,
     "metadata": {},
     "output_type": "execute_result"
    }
   ],
   "source": [
    "c=\"Aysha\"\n",
    "c[0:3]"
   ]
  },
  {
   "cell_type": "code",
   "execution_count": 60,
   "id": "515ec743-3373-43dc-8582-2e589adade5a",
   "metadata": {},
   "outputs": [
    {
     "data": {
      "text/plain": [
       "False"
      ]
     },
     "execution_count": 60,
     "metadata": {},
     "output_type": "execute_result"
    }
   ],
   "source": [
    "\"m\" in c"
   ]
  },
  {
   "cell_type": "code",
   "execution_count": 62,
   "id": "5124a879-14e0-451a-a2aa-47a8073b046c",
   "metadata": {},
   "outputs": [
    {
     "data": {
      "text/plain": [
       "True"
      ]
     },
     "execution_count": 62,
     "metadata": {},
     "output_type": "execute_result"
    }
   ],
   "source": [
    "\"A\" in c\n"
   ]
  },
  {
   "cell_type": "code",
   "execution_count": 64,
   "id": "24c89165-b7b9-4b10-81cb-69d327a76368",
   "metadata": {},
   "outputs": [
    {
     "data": {
      "text/plain": [
       "True"
      ]
     },
     "execution_count": 64,
     "metadata": {},
     "output_type": "execute_result"
    }
   ],
   "source": [
    "\"a\" in c "
   ]
  },
  {
   "cell_type": "code",
   "execution_count": null,
   "id": "56369b33-08e6-45eb-b579-5e695ac7d471",
   "metadata": {},
   "outputs": [],
   "source": []
  }
 ],
 "metadata": {
  "kernelspec": {
   "display_name": "Python 3 (ipykernel)",
   "language": "python",
   "name": "python3"
  },
  "language_info": {
   "codemirror_mode": {
    "name": "ipython",
    "version": 3
   },
   "file_extension": ".py",
   "mimetype": "text/x-python",
   "name": "python",
   "nbconvert_exporter": "python",
   "pygments_lexer": "ipython3",
   "version": "3.12.4"
  }
 },
 "nbformat": 4,
 "nbformat_minor": 5
}
